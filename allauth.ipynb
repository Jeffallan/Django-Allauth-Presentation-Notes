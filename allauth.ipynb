{
 "cells": [
  {
   "cell_type": "markdown",
   "metadata": {
    "slideshow": {
     "slide_type": "slide"
    }
   },
   "source": [
    "# Django Allauth\n",
    "\n",
    "\n",
    "[About the presneter](https://jeffallan.github.io/)"
   ]
  },
  {
   "cell_type": "markdown",
   "metadata": {
    "slideshow": {
     "slide_type": "slide"
    }
   },
   "source": [
    "# Overview\n",
    "\n",
    "- An overview of Django allauth \n",
    "- An introduction to the django cookiecutter project\n",
    "- Creating a custom user model for authentication\n",
    "- Implementing social login with allauth"
   ]
  },
  {
   "cell_type": "markdown",
   "metadata": {
    "slideshow": {
     "slide_type": "slide"
    }
   },
   "source": [
    "# Django Allauth: An Overview\n",
    "\n",
    "- Allauth is a set of django applicatons that handle user management\n",
    "- Features:\n",
    "    - email verification\n",
    "    - forgotten password flow\n",
    "    - logging in with multiple social accounts\n",
    "    - works with a custom user model\n",
    "- [Documentation](https://django-allauth.readthedocs.io/en/latest/advanced.html)"
   ]
  },
  {
   "cell_type": "markdown",
   "metadata": {
    "slideshow": {
     "slide_type": "slide"
    }
   },
   "source": [
    "# Django Allauth: An Overview\n",
    "\n",
    "## Why use all auth?\n",
    "\n",
    "- Wide use in production\n",
    "- [Only four known vulnurabilities since 2011](https://www.sourceclear.com/vulnerability-database/libraries/django-allauth/python/pypi/lid-220973)\n",
    "- Managing users is complex and error prone"
   ]
  },
  {
   "cell_type": "markdown",
   "metadata": {
    "slideshow": {
     "slide_type": "slide"
    }
   },
   "source": [
    "# Django Allauth: Getting Started With Cookiecutter\n",
    "- Cookiecutter is a command line tool that generates projects from templates\n",
    "- [Documentation](https://cookiecutter.readthedocs.io/en/latest/)\n",
    "- [Django Cookiecutter](https://github.com/pydanny/cookiecutter-django)"
   ]
  },
  {
   "cell_type": "markdown",
   "metadata": {
    "slideshow": {
     "slide_type": "slide"
    }
   },
   "source": [
    "# Django Allauth: Getting Started With Cookiecutter\n",
    "\n",
    "Installation: `pip install cookiecutter`\n",
    "\n",
    "Then navigate to your intended directory and run:\n",
    "\n",
    "`cookiecutter https://github.com/pydanny/cookiecutter-django`\n",
    "\n",
    "`git checkout base` in the example repo\n",
    "\n",
    "## Important note do not make any database migrations yet"
   ]
  },
  {
   "cell_type": "markdown",
   "metadata": {
    "slideshow": {
     "slide_type": "slide"
    }
   },
   "source": [
    "# Django Allauth: Creating a Custom User Model\n",
    "\n",
    "## Update the following:\n",
    "\n",
    "- views.py\n",
    "- users.urls.py\n",
    "- forms.py\n",
    "- admin.py\n",
    "- settings.py\n",
    "\n",
    "`git checkout custom_user` in the example repo\n"
   ]
  },
  {
   "cell_type": "markdown",
   "metadata": {
    "slideshow": {
     "slide_type": "slide"
    }
   },
   "source": [
    "# Django Allauth: Creating a Custom User Model\n",
    "\n",
    "## After updating the above mentioned files\n",
    "- Make your database migrations `docker-compose -f local.yml run --rm django python manage.py makemigrations`\n",
    "- Apply those changes to your database and `docker-compose -f local.yml run --rm django python manage.py migrate`\n",
    "- Create a superuser`docker-compose -f local.yml run --rm django python manage.py createsuperuser`\n",
    "\n",
    "\n",
    "\n"
   ]
  },
  {
   "cell_type": "markdown",
   "metadata": {
    "slideshow": {
     "slide_type": "slide"
    }
   },
   "source": [
    "# Django Allauth: Integrating Social Authentication\n",
    "\n",
    "In our example repo: `git checkout social_auth`\n",
    "\n",
    "## Perform the following\n",
    "- settings.py\n",
    "- setup domain name in admin.py i.e. localhost:8000\n",
    "- Create a new OAuth application in the google developer console\n",
    "    - https://console.developers.google.com\n",
    "- add callback url to provider i.e. http://localhost:8000/accounts/google/login/callback/\n",
    "- add new social application with client secret and client id in the Django admin site\n"
   ]
  }
 ],
 "metadata": {
  "celltoolbar": "Slideshow",
  "kernelspec": {
   "display_name": "Python 3",
   "language": "python",
   "name": "python3"
  },
  "language_info": {
   "codemirror_mode": {
    "name": "ipython",
    "version": 3
   },
   "file_extension": ".py",
   "mimetype": "text/x-python",
   "name": "python",
   "nbconvert_exporter": "python",
   "pygments_lexer": "ipython3",
   "version": "3.7.3"
  }
 },
 "nbformat": 4,
 "nbformat_minor": 2
}
